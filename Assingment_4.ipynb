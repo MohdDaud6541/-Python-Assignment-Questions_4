{
 "cells": [
  {
   "cell_type": "markdown",
   "id": "77eaf52a-012b-4279-a0c1-a1a7a7854592",
   "metadata": {},
   "source": [
    "Q1. Which keyword is used to create a functions? Create a function to return a list of odd number in the range of 1 to 25."
   ]
  },
  {
   "cell_type": "markdown",
   "id": "0e4bd768-1498-487b-bdda-3e867ce93067",
   "metadata": {},
   "source": [
    "Ans. Here's an example of a function that returns a list of odd numbers in the range of 1 to 25:"
   ]
  },
  {
   "cell_type": "code",
   "execution_count": 22,
   "id": "aa7f3152-28ed-4643-b5e6-1ab4648a803b",
   "metadata": {},
   "outputs": [],
   "source": [
    "def odd_numbers():\n",
    "    odds = []\n",
    "    for num in range(1, 26):\n",
    "        if num % 2 != 0:\n",
    "            odds.append(num)\n",
    "    return odds\n",
    "\n"
   ]
  },
  {
   "cell_type": "markdown",
   "id": "7c6fdaa0-48df-4b78-a247-ee28c5f61ee2",
   "metadata": {},
   "source": [
    "In this function, we first create an empty list called odds. We then use a for loop to iterate over the range of numbers from 1 to 25. For each number num, we use an if statement to check if it is odd (i.e., if the remainder of num divided by 2 is not equal to 0). If the number is odd, we append it to the odds list.\n",
    "\n",
    "Finally, we return the odds list from the function. This allows us to call the function and receive a list of odd numbers in the specified range as the output."
   ]
  },
  {
   "cell_type": "markdown",
   "id": "cdd11cdc-b01a-41c3-9ecd-a5acb88c8215",
   "metadata": {},
   "source": [
    "To call this function and print the list of odd numbers, we can use the following code:\n"
   ]
  },
  {
   "cell_type": "code",
   "execution_count": 5,
   "id": "fc01912d-3b4b-4444-ae04-964fd6c4b93a",
   "metadata": {},
   "outputs": [
    {
     "name": "stdout",
     "output_type": "stream",
     "text": [
      "[1, 3, 5, 7, 9, 11, 13, 15, 17, 19, 21, 23, 25]\n"
     ]
    }
   ],
   "source": [
    "print(odd_numbers())\n"
   ]
  },
  {
   "cell_type": "markdown",
   "id": "75cafaeb-e54e-44df-9792-dfe9020a88f1",
   "metadata": {},
   "source": [
    "Q2. Why *args and **kwarge is used in some functions? Create a function each for *args and **kwargs to demonstrate their use."
   ]
  },
  {
   "cell_type": "markdown",
   "id": "0fbd7c12-e071-4efa-8db0-6e9ad9d6ba58",
   "metadata": {},
   "source": [
    "Ans. In Python, *args and **kwargs are used in function definitions to pass a variable number of arguments to a function.\n",
    "\n",
    "*args is used to pass a variable number of non-keyworded arguments (i.e., positional arguments) to a function. The *args parameter in a function definition allows the function to accept any number of positional arguments. These arguments are passed to the function as a tuple, which can then be iterated over or manipulated in other ways within the function.\n",
    "\n",
    "**kwargs is used to pass a variable number of keyword arguments (i.e., named arguments) to a function. The **kwargs parameter in a function definition allows the function to accept any number of keyword arguments. These arguments are passed to the function as a dictionary, which can then be accessed and manipulated in various ways within the function.\n"
   ]
  },
  {
   "cell_type": "markdown",
   "id": "9453c0ae-0623-45e1-8e08-e862ce61b9f1",
   "metadata": {},
   "source": [
    "Here's an example of a function that uses *args to accept a variable number of arguments:"
   ]
  },
  {
   "cell_type": "code",
   "execution_count": 7,
   "id": "3abf1387-87eb-4aac-ac18-d36558cb9a36",
   "metadata": {},
   "outputs": [],
   "source": [
    "def multiply_numbers(*args):\n",
    "    product = 1\n",
    "    for num in args:\n",
    "        product *= num\n",
    "    return product\n"
   ]
  },
  {
   "cell_type": "markdown",
   "id": "92f2a69f-f9ed-484c-bec5-212fd4f39cae",
   "metadata": {},
   "source": [
    "In this function, we define a single parameter called *args, which accepts a variable number of arguments. Within the function, we use a for loop to iterate over the args tuple and multiply each number together to get the final product."
   ]
  },
  {
   "cell_type": "markdown",
   "id": "d16cca37-705a-4bf5-8caa-1ac73b9f7eaf",
   "metadata": {},
   "source": [
    "To call this function, we can pass any number of arguments separated by commas. For example:"
   ]
  },
  {
   "cell_type": "code",
   "execution_count": 8,
   "id": "f74f5f04-2b67-4c7f-9fdc-551ccf9a3a37",
   "metadata": {},
   "outputs": [
    {
     "name": "stdout",
     "output_type": "stream",
     "text": [
      "24\n",
      "50\n"
     ]
    }
   ],
   "source": [
    "print(multiply_numbers(2, 3, 4))\n",
    "print(multiply_numbers(5, 10))"
   ]
  },
  {
   "cell_type": "markdown",
   "id": "623eff8b-f0d6-4a2e-9cdb-79727d1b85b0",
   "metadata": {},
   "source": [
    "Here's an example of a function that uses **kwargs to accept a variable number of keyword arguments:"
   ]
  },
  {
   "cell_type": "code",
   "execution_count": 10,
   "id": "40f8b91c-1e4d-4917-8360-1aabc3e25134",
   "metadata": {},
   "outputs": [
    {
     "name": "stdout",
     "output_type": "stream",
     "text": [
      "name: Daud\n",
      "age: 24\n",
      "city: Lucknow\n"
     ]
    }
   ],
   "source": [
    "def print_info(**kwargs):\n",
    "    for key, value in kwargs.items():\n",
    "        print(f\"{key}: {value}\")\n",
    "\n",
    "print_info(name=\"Daud\", age=24, city=\"Lucknow\")\n"
   ]
  },
  {
   "cell_type": "markdown",
   "id": "63cc5c26-e5b5-471a-8e90-f61415ad438e",
   "metadata": {},
   "source": [
    "In this function, we define a single parameter called **kwargs, which accepts a variable number of keyword arguments. Within the function, we use a for loop to iterate over the kwargs dictionary and print out each key-value pair."
   ]
  },
  {
   "cell_type": "markdown",
   "id": "28b19cc0-f586-499c-821c-38d02801ae57",
   "metadata": {},
   "source": [
    "To call this function, we can pass any number of keyword arguments in the form of key=value. For example:"
   ]
  },
  {
   "cell_type": "code",
   "execution_count": 11,
   "id": "0331df51-4868-42d5-8e45-67df4df196e2",
   "metadata": {},
   "outputs": [
    {
     "name": "stdout",
     "output_type": "stream",
     "text": [
      "name: Daud\n",
      "age: 24\n",
      "city: Lucknow\n",
      "animal: cat\n",
      "breed: siamese\n",
      "age: 5\n"
     ]
    }
   ],
   "source": [
    "print_info(name=\"Daud\", age=24, city=\"Lucknow\")\n",
    "print_info(animal=\"cat\", breed=\"siamese\", age=5)\n"
   ]
  },
  {
   "cell_type": "markdown",
   "id": "306a2d3b-3b25-40b4-a574-ff973c60c823",
   "metadata": {},
   "source": [
    "Note that the order of the keyword arguments does not matter when using **kwargs, since they are passed to the function as a dictionary."
   ]
  },
  {
   "cell_type": "markdown",
   "id": "5ed696a0-a260-43d9-9d1b-b4cb19a06c43",
   "metadata": {},
   "source": [
    "Q3. What is an iterator in python? Name the method used to initialise the iterator object and the method used for iteration. Use these methods to print the first five elements of the given list [2,4,6,8,10,12,14,16,18,20]."
   ]
  },
  {
   "cell_type": "markdown",
   "id": "f1c81e8f-4110-4d1c-b4f4-60d4c78365de",
   "metadata": {},
   "source": [
    "Ans. In Python, an iterator is an object that enables the traversal of a container (such as a list, tuple, or dictionary) and access to its elements one by one. An iterator is an object that implements two methods: __iter__() and __next__(). The __iter__() method returns the iterator object itself, while the __next__() method returns the next value in the container.\n",
    "\n",
    "The iter() method is used to initialize an iterator object. It takes a container object as an argument and returns an iterator object that can be used to traverse the container.\n",
    "\n",
    "The next() method is used to iterate over the elements of the container. It returns the next element in the container each time it is called. When there are no more elements in the container, it raises the StopIteration exception."
   ]
  },
  {
   "cell_type": "markdown",
   "id": "0896a37f-c56d-4ff9-9389-19eb19f975b9",
   "metadata": {},
   "source": [
    "Here's an example of using an iterator to print the first five elements of a list:"
   ]
  },
  {
   "cell_type": "code",
   "execution_count": 12,
   "id": "03babd2f-e813-41d6-96c5-fdea3c619610",
   "metadata": {},
   "outputs": [
    {
     "name": "stdout",
     "output_type": "stream",
     "text": [
      "2\n",
      "4\n",
      "6\n",
      "8\n",
      "10\n"
     ]
    }
   ],
   "source": [
    "my_list = [2, 4, 6, 8, 10, 12, 14, 16, 18, 20]\n",
    "\n",
    "my_iterator = iter(my_list)\n",
    "\n",
    "for i in range(5):\n",
    "    print(next(my_iterator))\n"
   ]
  },
  {
   "cell_type": "markdown",
   "id": "0b52a8a1-d06e-4686-9f55-9bf6b3f50f65",
   "metadata": {},
   "source": [
    "Q4. What is a generator function in python? Why yield keyword is used? Give an example of a generator function."
   ]
  },
  {
   "cell_type": "markdown",
   "id": "fa4b0827-d351-441e-ac1d-eb0a9fd02d15",
   "metadata": {},
   "source": [
    "Ans. A generator function in Python is a special type of function that generates a sequence of values using the yield keyword instead of return. When the function is called, it returns a generator object that can be used to iterate over the sequence of values.\n",
    "\n",
    "Unlike a regular function, which returns a value and then terminates, a generator function generates a sequence of values on the fly, as they are needed. This makes generator functions very memory-efficient for working with large datasets or infinite sequences.\n",
    "\n",
    "The yield keyword is used to generate a value and temporarily suspend the function’s execution. The function can be resumed from where it left off later on by calling the generator object’s __next__() method. The yield keyword can be used multiple times in a generator function to produce a sequence of values."
   ]
  },
  {
   "cell_type": "markdown",
   "id": "aa86df80-2a94-4d82-a268-d02cb997d435",
   "metadata": {},
   "source": [
    "Here's an example of a generator function that generates a sequence of even numbers:"
   ]
  },
  {
   "cell_type": "code",
   "execution_count": 14,
   "id": "8cd00650-854d-4396-8755-2ad632b1cd08",
   "metadata": {},
   "outputs": [
    {
     "name": "stdout",
     "output_type": "stream",
     "text": [
      "0\n",
      "2\n",
      "4\n",
      "6\n",
      "8\n"
     ]
    }
   ],
   "source": [
    "def even_numbers(n):\n",
    "    for i in range(n):\n",
    "        if i % 2 == 0:\n",
    "            yield i\n",
    "\n",
    "# Create a generator object\n",
    "evens = even_numbers(10)\n",
    "\n",
    "# Iterate over the generator object and print each value\n",
    "for even in evens:\n",
    "    print(even)\n"
   ]
  },
  {
   "cell_type": "markdown",
   "id": "2f2c9b97-bc7f-4564-add4-570380f467ef",
   "metadata": {},
   "source": [
    "Note that the even_numbers() function generates only even numbers up to the value of n, and stops generating values when the end of the loop is reached. This makes it memory-efficient for working with large values of n."
   ]
  },
  {
   "cell_type": "markdown",
   "id": "c2240955-96c1-4367-b09a-a4971df27785",
   "metadata": {},
   "source": [
    "Q5. Create a generator function for prime numbers less than 1000. Use the next () method to print the first 20 prime numbers."
   ]
  },
  {
   "cell_type": "markdown",
   "id": "1cafa052-7d43-4a66-8f68-848216a8e198",
   "metadata": {},
   "source": [
    "Ans. Here's an example of a generator function that generates prime numbers less than 1000 and uses the next() method to print the first 20 prime numbers:"
   ]
  },
  {
   "cell_type": "code",
   "execution_count": 15,
   "id": "2412ad05-0d0d-4b5a-bd02-dfe29c9ace28",
   "metadata": {},
   "outputs": [
    {
     "name": "stdout",
     "output_type": "stream",
     "text": [
      "2\n",
      "3\n",
      "5\n",
      "7\n",
      "11\n",
      "13\n",
      "17\n",
      "19\n",
      "23\n",
      "29\n",
      "31\n",
      "37\n",
      "41\n",
      "43\n",
      "47\n",
      "53\n",
      "59\n",
      "61\n",
      "67\n",
      "71\n"
     ]
    }
   ],
   "source": [
    "def primes():\n",
    "    num = 2\n",
    "    while True:\n",
    "        for i in range(2, num):\n",
    "            if num % i == 0:\n",
    "                break\n",
    "        else:\n",
    "            yield num\n",
    "        num += 1\n",
    "\n",
    "# Create a generator object\n",
    "prime_gen = primes()\n",
    "\n",
    "# Print the first 20 prime numbers using the next() method\n",
    "for i in range(20):\n",
    "    print(next(prime_gen))\n"
   ]
  },
  {
   "cell_type": "markdown",
   "id": "69f2aefa-fd9e-496d-8db0-6f7342e18b2b",
   "metadata": {},
   "source": [
    "Note that this generator function generates an infinite sequence of prime numbers, so it can be used to generate as many prime numbers as needed by calling the next() method on the generator object."
   ]
  },
  {
   "cell_type": "markdown",
   "id": "86579d7e-732b-4fde-9ed6-0eb6970e27b2",
   "metadata": {},
   "source": [
    "Q6. Write a python program to print the first 10 Fibonacci numbers using a while loop."
   ]
  },
  {
   "cell_type": "markdown",
   "id": "fc241eff-3723-420d-86b2-1ef18a2ea7bb",
   "metadata": {},
   "source": [
    "Ans.Here's an example Python program to print the first 10 Fibonacci numbers using a while loop:"
   ]
  },
  {
   "cell_type": "code",
   "execution_count": 16,
   "id": "9dabcd71-1046-4730-b8ea-3a64efe7c87c",
   "metadata": {},
   "outputs": [
    {
     "name": "stdout",
     "output_type": "stream",
     "text": [
      "0\n",
      "1\n",
      "1\n",
      "2\n",
      "3\n",
      "5\n",
      "8\n",
      "13\n",
      "21\n",
      "34\n"
     ]
    }
   ],
   "source": [
    "# initialize the first two numbers of the sequence\n",
    "a, b = 0, 1\n",
    "\n",
    "# initialize a counter variable\n",
    "count = 0\n",
    "\n",
    "# loop until the count is 10\n",
    "while count < 10:\n",
    "    # print the current Fibonacci number\n",
    "    print(a)\n",
    "\n",
    "    # calculate the next number in the sequence\n",
    "    c = a + b\n",
    "\n",
    "    # update the values of a and b for the next iteration\n",
    "    a, b = b, c\n",
    "\n",
    "    # increment the counter\n",
    "    count += 1\n"
   ]
  },
  {
   "cell_type": "markdown",
   "id": "1af5935c-29f1-4b8a-9e80-47a04a27ada7",
   "metadata": {},
   "source": [
    "Q7. Write a List Comprehension to iterate through the given string: 'pwsills'.\n",
    "Expected output: ['p','w','s','k','i','l','l','s']"
   ]
  },
  {
   "cell_type": "markdown",
   "id": "728abcfd-e531-41b0-b6c8-142e9473a759",
   "metadata": {},
   "source": [
    "Ans. Here's a List Comprehension in Python to iterate through the string 'pwsills' and return a list of its characters:"
   ]
  },
  {
   "cell_type": "code",
   "execution_count": 18,
   "id": "d335d2b6-9d63-4f37-b702-f036154578e2",
   "metadata": {},
   "outputs": [
    {
     "name": "stdout",
     "output_type": "stream",
     "text": [
      "['p', 'w', 's', 'i', 'l', 'l', 's']\n"
     ]
    }
   ],
   "source": [
    "string = 'pwsills'\n",
    "result = [char for char in string]\n",
    "print(result)\n"
   ]
  },
  {
   "cell_type": "markdown",
   "id": "a75d71ba-8c36-4783-831f-faaa9fd4f8ba",
   "metadata": {},
   "source": [
    "Q8. Write a python program to check whether a given number is Palindrome or not using a while loop."
   ]
  },
  {
   "cell_type": "markdown",
   "id": "59800ec3-d605-4644-98db-b0da99e490a4",
   "metadata": {},
   "source": [
    "Ans. Here's a Python program to check whether a given number is Palindrome or not using a while loop:"
   ]
  },
  {
   "cell_type": "code",
   "execution_count": 20,
   "id": "0765aa68-978c-4931-b56b-103a028d0b73",
   "metadata": {},
   "outputs": [
    {
     "name": "stdin",
     "output_type": "stream",
     "text": [
      "Enter a number:  12321\n"
     ]
    },
    {
     "name": "stdout",
     "output_type": "stream",
     "text": [
      "12321 is a Palindrome number\n"
     ]
    }
   ],
   "source": [
    "num = int(input(\"Enter a number: \"))\n",
    "temp = num\n",
    "reverse_num = 0\n",
    "\n",
    "while temp > 0:\n",
    "    digit = temp % 10\n",
    "    reverse_num = reverse_num * 10 + digit\n",
    "    temp //= 10\n",
    "\n",
    "if num == reverse_num:\n",
    "    print(num, \"is a Palindrome number\")\n",
    "else:\n",
    "    print(num, \"is not a Palindrome number\")\n"
   ]
  },
  {
   "cell_type": "markdown",
   "id": "a428101e-5fd5-4b35-b73a-892cbe38b986",
   "metadata": {},
   "source": [
    "Q9. Write a code to print odd number form 1 to 100 using list comprehension.\n",
    "Note: Use a list comprehension to create a list from 1 to 100 and use another List comprehension to filter out add numbers."
   ]
  },
  {
   "cell_type": "markdown",
   "id": "c7b228f7-29d8-42f9-924e-ddbc326c672a",
   "metadata": {},
   "source": [
    "Ans. Here's the code to print odd numbers from 1 to 100 using list comprehension:"
   ]
  },
  {
   "cell_type": "code",
   "execution_count": 21,
   "id": "77b4a960-8f9e-4b7b-907f-f36cfb48d510",
   "metadata": {},
   "outputs": [
    {
     "name": "stdout",
     "output_type": "stream",
     "text": [
      "[1, 3, 5, 7, 9, 11, 13, 15, 17, 19, 21, 23, 25, 27, 29, 31, 33, 35, 37, 39, 41, 43, 45, 47, 49, 51, 53, 55, 57, 59, 61, 63, 65, 67, 69, 71, 73, 75, 77, 79, 81, 83, 85, 87, 89, 91, 93, 95, 97, 99]\n"
     ]
    }
   ],
   "source": [
    "# Using list comprehension to create a list from 1 to 100\n",
    "numbers = [num for num in range(1, 101)]\n",
    "\n",
    "# Using another list comprehension to filter out odd numbers\n",
    "odd_numbers = [num for num in numbers if num % 2 != 0]\n",
    "\n",
    "# Printing the list of odd numbers\n",
    "print(odd_numbers)\n"
   ]
  }
 ],
 "metadata": {
  "kernelspec": {
   "display_name": "Python 3 (ipykernel)",
   "language": "python",
   "name": "python3"
  },
  "language_info": {
   "codemirror_mode": {
    "name": "ipython",
    "version": 3
   },
   "file_extension": ".py",
   "mimetype": "text/x-python",
   "name": "python",
   "nbconvert_exporter": "python",
   "pygments_lexer": "ipython3",
   "version": "3.10.8"
  }
 },
 "nbformat": 4,
 "nbformat_minor": 5
}
